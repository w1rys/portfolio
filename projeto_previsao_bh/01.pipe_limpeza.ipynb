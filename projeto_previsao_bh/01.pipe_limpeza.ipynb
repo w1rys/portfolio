{
 "cells": [
  {
   "cell_type": "markdown",
   "metadata": {},
   "source": [
    "# *Pipeline de limpeza dos dados*"
   ]
  },
  {
   "cell_type": "code",
   "execution_count": 21,
   "metadata": {},
   "outputs": [],
   "source": [
    "import pandas as pd\n",
    "import numpy as np\n",
    "import math\n",
    "import re"
   ]
  },
  {
   "cell_type": "code",
   "execution_count": 22,
   "metadata": {},
   "outputs": [],
   "source": [
    "#Resolvendo números em faixas --> acessar valor e substituir pela média da faixa\n",
    "def calcular_media_faixa(valor):\n",
    "    if isinstance(valor, str) and '-' in valor:\n",
    "        try:\n",
    "            parte1, parte2 = valor.split('-')\n",
    "            media = (float(parte1) + float(parte2)) / 2\n",
    "            return media\n",
    "        except ValueError:\n",
    "            return np.nan\n",
    "    return valor"
   ]
  },
  {
   "cell_type": "code",
   "execution_count": 23,
   "metadata": {},
   "outputs": [
    {
     "data": {
      "text/html": [
       "<div>\n",
       "<style scoped>\n",
       "    .dataframe tbody tr th:only-of-type {\n",
       "        vertical-align: middle;\n",
       "    }\n",
       "\n",
       "    .dataframe tbody tr th {\n",
       "        vertical-align: top;\n",
       "    }\n",
       "\n",
       "    .dataframe thead th {\n",
       "        text-align: right;\n",
       "    }\n",
       "</style>\n",
       "<table border=\"1\" class=\"dataframe\">\n",
       "  <thead>\n",
       "    <tr style=\"text-align: right;\">\n",
       "      <th></th>\n",
       "      <th>Preço</th>\n",
       "      <th>Tamanho</th>\n",
       "      <th>Quartos</th>\n",
       "      <th>Banheiros</th>\n",
       "      <th>Vagas</th>\n",
       "      <th>Bairro</th>\n",
       "      <th>Endereço</th>\n",
       "    </tr>\n",
       "  </thead>\n",
       "  <tbody>\n",
       "    <tr>\n",
       "      <th>0</th>\n",
       "      <td>R$ 1.450.000</td>\n",
       "      <td>Tamanho do imóvel135 m²</td>\n",
       "      <td>Quantidade de quartos4</td>\n",
       "      <td>Quantidade de banheiros2</td>\n",
       "      <td>Quantidade de vagas de garagem2</td>\n",
       "      <td>Gutierrez</td>\n",
       "      <td>Rua Cônego Rocha Franco</td>\n",
       "    </tr>\n",
       "    <tr>\n",
       "      <th>1</th>\n",
       "      <td>Valor sob consulta</td>\n",
       "      <td>Tamanho do imóvel62-67 m²</td>\n",
       "      <td>Quantidade de quartos2</td>\n",
       "      <td>Quantidade de banheiros1</td>\n",
       "      <td>N/D</td>\n",
       "      <td>Funcionários</td>\n",
       "      <td>Rua Gonçalves Dias</td>\n",
       "    </tr>\n",
       "    <tr>\n",
       "      <th>2</th>\n",
       "      <td>R$ 1.070.000</td>\n",
       "      <td>Tamanho do imóvel115 m²</td>\n",
       "      <td>Quantidade de quartos2</td>\n",
       "      <td>Quantidade de banheiros2</td>\n",
       "      <td>Quantidade de vagas de garagem2</td>\n",
       "      <td>Santo Antônio</td>\n",
       "      <td>Rua Antônio Dias</td>\n",
       "    </tr>\n",
       "    <tr>\n",
       "      <th>3</th>\n",
       "      <td>R$ 280.000</td>\n",
       "      <td>Tamanho do imóvel60 m²</td>\n",
       "      <td>Quantidade de quartos3</td>\n",
       "      <td>Quantidade de banheiros1</td>\n",
       "      <td>Quantidade de vagas de garagem1</td>\n",
       "      <td>Estoril</td>\n",
       "      <td>Rua Vereador Nelson Cunha</td>\n",
       "    </tr>\n",
       "    <tr>\n",
       "      <th>4</th>\n",
       "      <td>A partir deR$ 1.335.000</td>\n",
       "      <td>Tamanho do imóvel78 m²</td>\n",
       "      <td>Quantidade de quartos3</td>\n",
       "      <td>Quantidade de banheiros2</td>\n",
       "      <td>Quantidade de vagas de garagem2</td>\n",
       "      <td>São Pedro</td>\n",
       "      <td>Rua Viçosa</td>\n",
       "    </tr>\n",
       "  </tbody>\n",
       "</table>\n",
       "</div>"
      ],
      "text/plain": [
       "                     Preço                    Tamanho                 Quartos  \\\n",
       "0             R$ 1.450.000    Tamanho do imóvel135 m²  Quantidade de quartos4   \n",
       "1       Valor sob consulta  Tamanho do imóvel62-67 m²  Quantidade de quartos2   \n",
       "2             R$ 1.070.000    Tamanho do imóvel115 m²  Quantidade de quartos2   \n",
       "3               R$ 280.000     Tamanho do imóvel60 m²  Quantidade de quartos3   \n",
       "4  A partir deR$ 1.335.000     Tamanho do imóvel78 m²  Quantidade de quartos3   \n",
       "\n",
       "                  Banheiros                            Vagas         Bairro  \\\n",
       "0  Quantidade de banheiros2  Quantidade de vagas de garagem2      Gutierrez   \n",
       "1  Quantidade de banheiros1                              N/D   Funcionários   \n",
       "2  Quantidade de banheiros2  Quantidade de vagas de garagem2  Santo Antônio   \n",
       "3  Quantidade de banheiros1  Quantidade de vagas de garagem1        Estoril   \n",
       "4  Quantidade de banheiros2  Quantidade de vagas de garagem2      São Pedro   \n",
       "\n",
       "                    Endereço  \n",
       "0    Rua Cônego Rocha Franco  \n",
       "1         Rua Gonçalves Dias  \n",
       "2           Rua Antônio Dias  \n",
       "3  Rua Vereador Nelson Cunha  \n",
       "4                 Rua Viçosa  "
      ]
     },
     "execution_count": 23,
     "metadata": {},
     "output_type": "execute_result"
    }
   ],
   "source": [
    "base_original = pd.read_csv(\"base_bruta_imoveis_zap_belo_horizonte.csv\", sep = \";\")\n",
    "base_original.head()"
   ]
  },
  {
   "cell_type": "code",
   "execution_count": 24,
   "metadata": {},
   "outputs": [],
   "source": [
    "base_tratada = base_original.copy()"
   ]
  },
  {
   "cell_type": "code",
   "execution_count": 25,
   "metadata": {},
   "outputs": [
    {
     "name": "stdout",
     "output_type": "stream",
     "text": [
      "<class 'pandas.core.frame.DataFrame'>\n",
      "RangeIndex: 9990 entries, 0 to 9989\n",
      "Data columns (total 7 columns):\n",
      " #   Column     Non-Null Count  Dtype \n",
      "---  ------     --------------  ----- \n",
      " 0   Preço      9990 non-null   object\n",
      " 1   Tamanho    9990 non-null   object\n",
      " 2   Quartos    9990 non-null   object\n",
      " 3   Banheiros  9990 non-null   object\n",
      " 4   Vagas      9990 non-null   object\n",
      " 5   Bairro     9990 non-null   object\n",
      " 6   Endereço   9095 non-null   object\n",
      "dtypes: object(7)\n",
      "memory usage: 546.5+ KB\n"
     ]
    }
   ],
   "source": [
    "base_tratada.info()"
   ]
  },
  {
   "cell_type": "code",
   "execution_count": 26,
   "metadata": {},
   "outputs": [
    {
     "data": {
      "text/html": [
       "<div>\n",
       "<style scoped>\n",
       "    .dataframe tbody tr th:only-of-type {\n",
       "        vertical-align: middle;\n",
       "    }\n",
       "\n",
       "    .dataframe tbody tr th {\n",
       "        vertical-align: top;\n",
       "    }\n",
       "\n",
       "    .dataframe thead th {\n",
       "        text-align: right;\n",
       "    }\n",
       "</style>\n",
       "<table border=\"1\" class=\"dataframe\">\n",
       "  <thead>\n",
       "    <tr style=\"text-align: right;\">\n",
       "      <th></th>\n",
       "      <th>Preço</th>\n",
       "      <th>Tamanho</th>\n",
       "      <th>Quartos</th>\n",
       "      <th>Banheiros</th>\n",
       "      <th>Vagas</th>\n",
       "      <th>Bairro</th>\n",
       "      <th>Endereço</th>\n",
       "    </tr>\n",
       "  </thead>\n",
       "  <tbody>\n",
       "    <tr>\n",
       "      <th>count</th>\n",
       "      <td>9990</td>\n",
       "      <td>9990</td>\n",
       "      <td>9990</td>\n",
       "      <td>9990</td>\n",
       "      <td>9990</td>\n",
       "      <td>9990</td>\n",
       "      <td>9095</td>\n",
       "    </tr>\n",
       "    <tr>\n",
       "      <th>unique</th>\n",
       "      <td>2099</td>\n",
       "      <td>711</td>\n",
       "      <td>15</td>\n",
       "      <td>29</td>\n",
       "      <td>26</td>\n",
       "      <td>192</td>\n",
       "      <td>1614</td>\n",
       "    </tr>\n",
       "    <tr>\n",
       "      <th>top</th>\n",
       "      <td>N/D</td>\n",
       "      <td>Tamanho do imóvel90 m²</td>\n",
       "      <td>Quantidade de quartos3</td>\n",
       "      <td>Quantidade de banheiros2</td>\n",
       "      <td>Quantidade de vagas de garagem2</td>\n",
       "      <td>Buritis</td>\n",
       "      <td>Rua dos Aimorés</td>\n",
       "    </tr>\n",
       "    <tr>\n",
       "      <th>freq</th>\n",
       "      <td>1208</td>\n",
       "      <td>264</td>\n",
       "      <td>4548</td>\n",
       "      <td>4128</td>\n",
       "      <td>4864</td>\n",
       "      <td>622</td>\n",
       "      <td>111</td>\n",
       "    </tr>\n",
       "  </tbody>\n",
       "</table>\n",
       "</div>"
      ],
      "text/plain": [
       "       Preço                 Tamanho                 Quartos  \\\n",
       "count   9990                    9990                    9990   \n",
       "unique  2099                     711                      15   \n",
       "top      N/D  Tamanho do imóvel90 m²  Quantidade de quartos3   \n",
       "freq    1208                     264                    4548   \n",
       "\n",
       "                       Banheiros                            Vagas   Bairro  \\\n",
       "count                       9990                             9990     9990   \n",
       "unique                        29                               26      192   \n",
       "top     Quantidade de banheiros2  Quantidade de vagas de garagem2  Buritis   \n",
       "freq                        4128                             4864      622   \n",
       "\n",
       "               Endereço  \n",
       "count              9095  \n",
       "unique             1614  \n",
       "top     Rua dos Aimorés  \n",
       "freq                111  "
      ]
     },
     "execution_count": 26,
     "metadata": {},
     "output_type": "execute_result"
    }
   ],
   "source": [
    "round(base_tratada.describe(), 2)"
   ]
  },
  {
   "cell_type": "markdown",
   "metadata": {},
   "source": [
    "# *Coluna Preço*"
   ]
  },
  {
   "cell_type": "code",
   "execution_count": 27,
   "metadata": {},
   "outputs": [],
   "source": [
    "base_tratada[\"Preço\"] = base_tratada[\"Preço\"].str.replace(r\"[^\\d.]\", \"\", regex = True)\n",
    "base_tratada[\"Preço\"] = base_tratada[\"Preço\"].str.replace(\".\",\"\")\n",
    "base_tratada[\"Preço\"] = pd.to_numeric(base_tratada[\"Preço\"], errors = \"coerce\")"
   ]
  },
  {
   "cell_type": "markdown",
   "metadata": {},
   "source": [
    "# *Coluna Tamanho*"
   ]
  },
  {
   "cell_type": "code",
   "execution_count": 28,
   "metadata": {},
   "outputs": [],
   "source": [
    "base_tratada[\"Tamanho\"] = base_tratada[\"Tamanho\"].str.replace(\"Tamanho do imóvel\", \"\").str.replace(\"m²\", \"\")\n",
    "base_tratada[\"Tamanho\"] = pd.to_numeric(base_tratada[\"Tamanho\"], errors = \"coerce\")"
   ]
  },
  {
   "cell_type": "markdown",
   "metadata": {},
   "source": [
    "# *Coluna Quartos*"
   ]
  },
  {
   "cell_type": "code",
   "execution_count": 29,
   "metadata": {},
   "outputs": [],
   "source": [
    "base_tratada[\"Quartos\"] = base_tratada[\"Quartos\"].str.replace(\"Quantidade de quartos\",\"\")\n",
    "base_tratada[\"Quartos\"] = base_tratada[\"Quartos\"].apply(calcular_media_faixa)\n",
    "base_tratada[\"Quartos\"] = pd.to_numeric(base_tratada[\"Quartos\"], errors = \"coerce\")\n",
    "base_tratada[\"Quartos\"] = base_tratada[\"Quartos\"].apply(lambda x: math.ceil(x) if pd.notna(x) else x)\n",
    "base_tratada.loc[base_tratada[\"Quartos\"] > 7, \"Quartos\"] = 8"
   ]
  },
  {
   "cell_type": "markdown",
   "metadata": {},
   "source": [
    "# *Coluna Banheiros*"
   ]
  },
  {
   "cell_type": "code",
   "execution_count": 30,
   "metadata": {},
   "outputs": [],
   "source": [
    "base_tratada[\"Banheiros\"] = base_tratada[\"Banheiros\"].str.replace(\"Quantidade de banheiros\",\"\")\n",
    "base_tratada[\"Banheiros\"] = base_tratada[\"Banheiros\"].apply(calcular_media_faixa)\n",
    "base_tratada[\"Banheiros\"] = pd.to_numeric(base_tratada[\"Banheiros\"], errors = \"coerce\")\n",
    "base_tratada[\"Banheiros\"] = base_tratada[\"Banheiros\"].apply(lambda x: math.ceil(x) if pd.notna(x) else x)\n",
    "base_tratada.loc[base_tratada[\"Banheiros\"] > 6, \"Banheiros\"] = 7"
   ]
  },
  {
   "cell_type": "markdown",
   "metadata": {},
   "source": [
    "# *Coluna Vagas*"
   ]
  },
  {
   "cell_type": "code",
   "execution_count": 31,
   "metadata": {},
   "outputs": [],
   "source": [
    "base_tratada[\"Vagas\"] = base_tratada[\"Vagas\"].str.replace(\"Quantidade de vagas de garagem\",\"\")\n",
    "base_tratada[\"Vagas\"] = base_tratada[\"Vagas\"].replace(\"N/D\", \"0\")\n",
    "base_tratada[\"Vagas\"] = base_tratada[\"Vagas\"].apply(calcular_media_faixa)\n",
    "base_tratada[\"Vagas\"] = pd.to_numeric(base_tratada[\"Vagas\"], errors=\"coerce\")\n",
    "base_tratada[\"Vagas\"] = base_tratada[\"Vagas\"].apply(lambda x: math.ceil(x) if pd.notna(x) else x)\n",
    "base_tratada.loc[base_tratada[\"Vagas\"] > 5, \"Vagas\"] = 6"
   ]
  },
  {
   "cell_type": "markdown",
   "metadata": {},
   "source": [
    "# *Coluna Bairro*"
   ]
  },
  {
   "cell_type": "code",
   "execution_count": 32,
   "metadata": {},
   "outputs": [],
   "source": [
    "base_tratada[\"Bairro\"] = (\n",
    "    base_tratada[\"Bairro\"]\n",
    "    .str.replace(\"Apartamento para comprar em\", \"\", regex=False)\n",
    "    .str.replace(\"Cobertura para comprar em\", \"\", regex=False)\n",
    "    .str.replace(\", Belo Horizonte\", \"\", regex=False)\n",
    "    .str.replace(\"Imóvel para comprar em\", \"\", regex=False)\n",
    "    .str.replace(\"Duplex para comprar em\", \"\", regex=False)\n",
    "    .str.replace(\"Flat para comprar em\", \"\", regex=False)\n",
    "    .str.replace(\"Casa para comprar em\", \"\", regex=False)\n",
    "    .str.replace(r\"\\s*\\(.*?\\)\", \"\", regex=True)\n",
    "    .str.strip())"
   ]
  },
  {
   "cell_type": "markdown",
   "metadata": {},
   "source": [
    "# *Coluna Endereço*"
   ]
  },
  {
   "cell_type": "code",
   "execution_count": 33,
   "metadata": {},
   "outputs": [],
   "source": [
    "base_tratada[\"Endereço\"] = base_tratada[\"Endereço\"].replace(r'^\\s*$', np.nan, regex=True)"
   ]
  },
  {
   "cell_type": "markdown",
   "metadata": {},
   "source": [
    "# *Removendo NANs e Duplicatas*"
   ]
  },
  {
   "cell_type": "code",
   "execution_count": 34,
   "metadata": {},
   "outputs": [],
   "source": [
    "base_tratada = base_tratada.dropna()\n",
    "base_tratada = base_tratada.drop_duplicates()"
   ]
  },
  {
   "cell_type": "markdown",
   "metadata": {},
   "source": [
    "# *Renomeando Colunas*"
   ]
  },
  {
   "cell_type": "code",
   "execution_count": 35,
   "metadata": {},
   "outputs": [],
   "source": [
    "base_tratada.rename(columns={\"Tamanho\": \"tamanho (m²)\",\n",
    "                             \"Quartos\": \"qtd_quartos\",\n",
    "                             \"Banheiros\": \"qtd_banheiros\",\n",
    "                             \"Vagas\": \"qtd_vagas_garagem\",\n",
    "                             \"Preço\": \"preco\",\n",
    "                             \"Bairro\": \"bairro\",\n",
    "                             \"Endereço\": \"endereco\"},\n",
    "                               inplace = True)"
   ]
  },
  {
   "cell_type": "markdown",
   "metadata": {},
   "source": [
    "# *Removendo e salvando outliers*\n"
   ]
  },
  {
   "cell_type": "code",
   "execution_count": 36,
   "metadata": {},
   "outputs": [
    {
     "name": "stdout",
     "output_type": "stream",
     "text": [
      "Arquivo 'outliers_removidos.csv' salvo com 64 linhas.\n"
     ]
    }
   ],
   "source": [
    "#Limite máximo de preço\n",
    "limite_maximo_preco = 5_000_000\n",
    "\n",
    "#Limite máximo de tamanho\n",
    "limite_maximo_tamanho = 600\n",
    "\n",
    "#Identificar outliers (apenas pelo limite superior) ---\n",
    "outliers = (\n",
    "    (base_tratada[\"preco\"] > limite_maximo_preco) |\n",
    "    (base_tratada[\"tamanho (m²)\"] > limite_maximo_tamanho)\n",
    ")\n",
    "\n",
    "outliers_df = base_tratada[outliers]\n",
    "outliers_df.to_csv(\"outliers_removidos.csv\", index=False, encoding=\"utf-8-sig\")\n",
    "\n",
    "base_tratada = base_tratada[~outliers]\n",
    "\n",
    "print(f\"Arquivo 'outliers_removidos.csv' salvo com {len(outliers_df)} linhas.\")"
   ]
  },
  {
   "cell_type": "markdown",
   "metadata": {},
   "source": [
    "# *Informações da base tratada*"
   ]
  },
  {
   "cell_type": "code",
   "execution_count": 37,
   "metadata": {},
   "outputs": [
    {
     "name": "stdout",
     "output_type": "stream",
     "text": [
      "<class 'pandas.core.frame.DataFrame'>\n",
      "Index: 6885 entries, 0 to 9978\n",
      "Data columns (total 7 columns):\n",
      " #   Column             Non-Null Count  Dtype  \n",
      "---  ------             --------------  -----  \n",
      " 0   preco              6885 non-null   float64\n",
      " 1   tamanho (m²)       6885 non-null   float64\n",
      " 2   qtd_quartos        6885 non-null   int64  \n",
      " 3   qtd_banheiros      6885 non-null   float64\n",
      " 4   qtd_vagas_garagem  6885 non-null   int64  \n",
      " 5   bairro             6885 non-null   object \n",
      " 6   endereco           6885 non-null   object \n",
      "dtypes: float64(3), int64(2), object(2)\n",
      "memory usage: 430.3+ KB\n"
     ]
    }
   ],
   "source": [
    "base_tratada.info()"
   ]
  },
  {
   "cell_type": "code",
   "execution_count": 38,
   "metadata": {},
   "outputs": [
    {
     "data": {
      "text/html": [
       "<div>\n",
       "<style scoped>\n",
       "    .dataframe tbody tr th:only-of-type {\n",
       "        vertical-align: middle;\n",
       "    }\n",
       "\n",
       "    .dataframe tbody tr th {\n",
       "        vertical-align: top;\n",
       "    }\n",
       "\n",
       "    .dataframe thead th {\n",
       "        text-align: right;\n",
       "    }\n",
       "</style>\n",
       "<table border=\"1\" class=\"dataframe\">\n",
       "  <thead>\n",
       "    <tr style=\"text-align: right;\">\n",
       "      <th></th>\n",
       "      <th>preco</th>\n",
       "      <th>tamanho (m²)</th>\n",
       "      <th>qtd_quartos</th>\n",
       "      <th>qtd_banheiros</th>\n",
       "      <th>qtd_vagas_garagem</th>\n",
       "    </tr>\n",
       "  </thead>\n",
       "  <tbody>\n",
       "    <tr>\n",
       "      <th>count</th>\n",
       "      <td>6885.00</td>\n",
       "      <td>6885.00</td>\n",
       "      <td>6885.00</td>\n",
       "      <td>6885.00</td>\n",
       "      <td>6885.00</td>\n",
       "    </tr>\n",
       "    <tr>\n",
       "      <th>mean</th>\n",
       "      <td>1107011.39</td>\n",
       "      <td>112.59</td>\n",
       "      <td>2.93</td>\n",
       "      <td>2.39</td>\n",
       "      <td>2.00</td>\n",
       "    </tr>\n",
       "    <tr>\n",
       "      <th>std</th>\n",
       "      <td>759315.94</td>\n",
       "      <td>60.28</td>\n",
       "      <td>0.83</td>\n",
       "      <td>1.03</td>\n",
       "      <td>0.95</td>\n",
       "    </tr>\n",
       "    <tr>\n",
       "      <th>min</th>\n",
       "      <td>140000.00</td>\n",
       "      <td>10.00</td>\n",
       "      <td>1.00</td>\n",
       "      <td>1.00</td>\n",
       "      <td>0.00</td>\n",
       "    </tr>\n",
       "    <tr>\n",
       "      <th>25%</th>\n",
       "      <td>600000.00</td>\n",
       "      <td>70.00</td>\n",
       "      <td>2.00</td>\n",
       "      <td>2.00</td>\n",
       "      <td>1.00</td>\n",
       "    </tr>\n",
       "    <tr>\n",
       "      <th>50%</th>\n",
       "      <td>870000.00</td>\n",
       "      <td>97.00</td>\n",
       "      <td>3.00</td>\n",
       "      <td>2.00</td>\n",
       "      <td>2.00</td>\n",
       "    </tr>\n",
       "    <tr>\n",
       "      <th>75%</th>\n",
       "      <td>1350300.00</td>\n",
       "      <td>140.00</td>\n",
       "      <td>4.00</td>\n",
       "      <td>3.00</td>\n",
       "      <td>2.00</td>\n",
       "    </tr>\n",
       "    <tr>\n",
       "      <th>max</th>\n",
       "      <td>5000000.00</td>\n",
       "      <td>600.00</td>\n",
       "      <td>7.00</td>\n",
       "      <td>7.00</td>\n",
       "      <td>6.00</td>\n",
       "    </tr>\n",
       "  </tbody>\n",
       "</table>\n",
       "</div>"
      ],
      "text/plain": [
       "            preco  tamanho (m²)  qtd_quartos  qtd_banheiros  qtd_vagas_garagem\n",
       "count     6885.00       6885.00      6885.00        6885.00            6885.00\n",
       "mean   1107011.39        112.59         2.93           2.39               2.00\n",
       "std     759315.94         60.28         0.83           1.03               0.95\n",
       "min     140000.00         10.00         1.00           1.00               0.00\n",
       "25%     600000.00         70.00         2.00           2.00               1.00\n",
       "50%     870000.00         97.00         3.00           2.00               2.00\n",
       "75%    1350300.00        140.00         4.00           3.00               2.00\n",
       "max    5000000.00        600.00         7.00           7.00               6.00"
      ]
     },
     "execution_count": 38,
     "metadata": {},
     "output_type": "execute_result"
    }
   ],
   "source": [
    "round(base_tratada.describe(), 2)"
   ]
  },
  {
   "cell_type": "markdown",
   "metadata": {},
   "source": [
    "# *Salvando base de dados tratada*"
   ]
  },
  {
   "cell_type": "code",
   "execution_count": 39,
   "metadata": {},
   "outputs": [],
   "source": [
    "base_tratada.to_csv(\"base_tratada_imoveis_zap_belo_horizonte.csv\", sep = \";\", encoding = \"utf-8-sig\", index = False)"
   ]
  },
  {
   "cell_type": "code",
   "execution_count": 40,
   "metadata": {},
   "outputs": [
    {
     "data": {
      "text/html": [
       "<div>\n",
       "<style scoped>\n",
       "    .dataframe tbody tr th:only-of-type {\n",
       "        vertical-align: middle;\n",
       "    }\n",
       "\n",
       "    .dataframe tbody tr th {\n",
       "        vertical-align: top;\n",
       "    }\n",
       "\n",
       "    .dataframe thead th {\n",
       "        text-align: right;\n",
       "    }\n",
       "</style>\n",
       "<table border=\"1\" class=\"dataframe\">\n",
       "  <thead>\n",
       "    <tr style=\"text-align: right;\">\n",
       "      <th></th>\n",
       "      <th>preco</th>\n",
       "      <th>tamanho (m²)</th>\n",
       "      <th>qtd_quartos</th>\n",
       "      <th>qtd_banheiros</th>\n",
       "      <th>qtd_vagas_garagem</th>\n",
       "      <th>bairro</th>\n",
       "      <th>endereco</th>\n",
       "    </tr>\n",
       "  </thead>\n",
       "  <tbody>\n",
       "    <tr>\n",
       "      <th>0</th>\n",
       "      <td>1450000.0</td>\n",
       "      <td>135.0</td>\n",
       "      <td>4</td>\n",
       "      <td>2.0</td>\n",
       "      <td>2</td>\n",
       "      <td>Gutierrez</td>\n",
       "      <td>Rua Cônego Rocha Franco</td>\n",
       "    </tr>\n",
       "    <tr>\n",
       "      <th>2</th>\n",
       "      <td>1070000.0</td>\n",
       "      <td>115.0</td>\n",
       "      <td>2</td>\n",
       "      <td>2.0</td>\n",
       "      <td>2</td>\n",
       "      <td>Santo Antônio</td>\n",
       "      <td>Rua Antônio Dias</td>\n",
       "    </tr>\n",
       "    <tr>\n",
       "      <th>3</th>\n",
       "      <td>280000.0</td>\n",
       "      <td>60.0</td>\n",
       "      <td>3</td>\n",
       "      <td>1.0</td>\n",
       "      <td>1</td>\n",
       "      <td>Estoril</td>\n",
       "      <td>Rua Vereador Nelson Cunha</td>\n",
       "    </tr>\n",
       "    <tr>\n",
       "      <th>4</th>\n",
       "      <td>1335000.0</td>\n",
       "      <td>78.0</td>\n",
       "      <td>3</td>\n",
       "      <td>2.0</td>\n",
       "      <td>2</td>\n",
       "      <td>São Pedro</td>\n",
       "      <td>Rua Viçosa</td>\n",
       "    </tr>\n",
       "    <tr>\n",
       "      <th>6</th>\n",
       "      <td>530000.0</td>\n",
       "      <td>75.0</td>\n",
       "      <td>3</td>\n",
       "      <td>2.0</td>\n",
       "      <td>2</td>\n",
       "      <td>Castelo</td>\n",
       "      <td>Avenida Miguel Perrela</td>\n",
       "    </tr>\n",
       "    <tr>\n",
       "      <th>...</th>\n",
       "      <td>...</td>\n",
       "      <td>...</td>\n",
       "      <td>...</td>\n",
       "      <td>...</td>\n",
       "      <td>...</td>\n",
       "      <td>...</td>\n",
       "      <td>...</td>\n",
       "    </tr>\n",
       "    <tr>\n",
       "      <th>9957</th>\n",
       "      <td>330000.0</td>\n",
       "      <td>54.0</td>\n",
       "      <td>2</td>\n",
       "      <td>1.0</td>\n",
       "      <td>1</td>\n",
       "      <td>Juliana</td>\n",
       "      <td>Rua Alva</td>\n",
       "    </tr>\n",
       "    <tr>\n",
       "      <th>9963</th>\n",
       "      <td>715000.0</td>\n",
       "      <td>71.0</td>\n",
       "      <td>3</td>\n",
       "      <td>2.0</td>\n",
       "      <td>2</td>\n",
       "      <td>Padre Eustáquio</td>\n",
       "      <td>Rua Curupaiti</td>\n",
       "    </tr>\n",
       "    <tr>\n",
       "      <th>9971</th>\n",
       "      <td>700000.0</td>\n",
       "      <td>140.0</td>\n",
       "      <td>4</td>\n",
       "      <td>3.0</td>\n",
       "      <td>2</td>\n",
       "      <td>Alto Caiçaras</td>\n",
       "      <td>Rua da Coleirinha</td>\n",
       "    </tr>\n",
       "    <tr>\n",
       "      <th>9974</th>\n",
       "      <td>390000.0</td>\n",
       "      <td>49.0</td>\n",
       "      <td>2</td>\n",
       "      <td>2.0</td>\n",
       "      <td>1</td>\n",
       "      <td>Glória</td>\n",
       "      <td>Avenida Brigadeiro Eduardo Gomes</td>\n",
       "    </tr>\n",
       "    <tr>\n",
       "      <th>9978</th>\n",
       "      <td>2500000.0</td>\n",
       "      <td>131.0</td>\n",
       "      <td>4</td>\n",
       "      <td>4.0</td>\n",
       "      <td>4</td>\n",
       "      <td>Santa Efigênia</td>\n",
       "      <td>Avenida do Contorno</td>\n",
       "    </tr>\n",
       "  </tbody>\n",
       "</table>\n",
       "<p>6885 rows × 7 columns</p>\n",
       "</div>"
      ],
      "text/plain": [
       "          preco  tamanho (m²)  qtd_quartos  qtd_banheiros  qtd_vagas_garagem  \\\n",
       "0     1450000.0         135.0            4            2.0                  2   \n",
       "2     1070000.0         115.0            2            2.0                  2   \n",
       "3      280000.0          60.0            3            1.0                  1   \n",
       "4     1335000.0          78.0            3            2.0                  2   \n",
       "6      530000.0          75.0            3            2.0                  2   \n",
       "...         ...           ...          ...            ...                ...   \n",
       "9957   330000.0          54.0            2            1.0                  1   \n",
       "9963   715000.0          71.0            3            2.0                  2   \n",
       "9971   700000.0         140.0            4            3.0                  2   \n",
       "9974   390000.0          49.0            2            2.0                  1   \n",
       "9978  2500000.0         131.0            4            4.0                  4   \n",
       "\n",
       "               bairro                          endereco  \n",
       "0           Gutierrez           Rua Cônego Rocha Franco  \n",
       "2       Santo Antônio                  Rua Antônio Dias  \n",
       "3             Estoril         Rua Vereador Nelson Cunha  \n",
       "4           São Pedro                        Rua Viçosa  \n",
       "6             Castelo            Avenida Miguel Perrela  \n",
       "...               ...                               ...  \n",
       "9957          Juliana                          Rua Alva  \n",
       "9963  Padre Eustáquio                     Rua Curupaiti  \n",
       "9971    Alto Caiçaras                 Rua da Coleirinha  \n",
       "9974           Glória  Avenida Brigadeiro Eduardo Gomes  \n",
       "9978   Santa Efigênia               Avenida do Contorno  \n",
       "\n",
       "[6885 rows x 7 columns]"
      ]
     },
     "execution_count": 40,
     "metadata": {},
     "output_type": "execute_result"
    }
   ],
   "source": [
    "base_tratada"
   ]
  }
 ],
 "metadata": {
  "kernelspec": {
   "display_name": "Python 3",
   "language": "python",
   "name": "python3"
  },
  "language_info": {
   "codemirror_mode": {
    "name": "ipython",
    "version": 3
   },
   "file_extension": ".py",
   "mimetype": "text/x-python",
   "name": "python",
   "nbconvert_exporter": "python",
   "pygments_lexer": "ipython3",
   "version": "3.9.6"
  }
 },
 "nbformat": 4,
 "nbformat_minor": 2
}
