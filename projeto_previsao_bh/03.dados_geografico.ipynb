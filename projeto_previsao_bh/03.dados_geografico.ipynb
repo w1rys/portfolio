{
 "cells": [
  {
   "cell_type": "code",
   "execution_count": null,
   "metadata": {},
   "outputs": [],
   "source": [
    "import pandas as pd\n",
    "import requests\n",
    "import time\n",
    "from unidecode import unidecode\n",
    "from urllib.parse import quote\n",
    "from geopy.geocoders import OpenCage\n",
    "from dotenv import load_dotenv\n",
    "import os\n",
    "from geopy.distance import geodesic\n",
    "import numpy as np"
   ]
  },
  {
   "cell_type": "code",
   "execution_count": null,
   "metadata": {},
   "outputs": [],
   "source": [
    "# Carregar chave da API\n",
    "load_dotenv()\n",
    "OPENCAGE_API_KEY = os.getenv(\"OPENCAGE_API_KEY\")\n",
    "if not OPENCAGE_API_KEY:\n",
    "    raise ValueError(\"A chave OPENCAGE_API_KEY não foi encontrada. Verifique o arquivo .env\")"
   ]
  },
  {
   "cell_type": "code",
   "execution_count": null,
   "metadata": {},
   "outputs": [],
   "source": [
    "# Carregar base limpa\n",
    "base_ML = pd.read_csv('imoveis_ML_belo_horizonte.csv', sep=\";\")"
   ]
  },
  {
   "cell_type": "code",
   "execution_count": null,
   "metadata": {},
   "outputs": [],
   "source": [
    "# Normalizar colunas 'bairro' e 'endereco'\n",
    "base_ML['bairro_norm'] = base_ML['bairro'].apply(lambda x: unidecode(x.lower().strip()) if isinstance(x, str) else '')\n",
    "base_ML['endereco_norm'] = base_ML['endereco'].astype(str).str.lower().apply(unidecode)"
   ]
  },
  {
   "cell_type": "code",
   "execution_count": null,
   "metadata": {},
   "outputs": [],
   "source": [
    "# Expandir abreviações comuns\n",
    "replacements = {\n",
    "    'av.': 'avenida',\n",
    "    'r.': 'rua',\n",
    "    'dr.': 'doutor',\n",
    "    'eng.': 'engenheiro',\n",
    "    'prof.': 'professor'\n",
    "}\n",
    "for old, new in replacements.items():\n",
    "    base_ML['endereco_norm'] = base_ML['endereco_norm'].str.replace(old, new, regex=False)"
   ]
  },
  {
   "cell_type": "code",
   "execution_count": null,
   "metadata": {},
   "outputs": [],
   "source": [
    "# Remover espaços extras\n",
    "base_ML['endereco_norm'] = base_ML['endereco_norm'].str.strip()"
   ]
  },
  {
   "cell_type": "code",
   "execution_count": null,
   "metadata": {},
   "outputs": [],
   "source": [
    "# 2️⃣ Função para buscar CEP e coordenadas\n",
    "def get_geo_info_from_address(row, api_key):\n",
    "    geolocator = OpenCage(api_key=api_key)\n",
    "    logradouro = row['endereco_norm']\n",
    "    bairro = row['bairro_norm']\n",
    "    \n",
    "    if isinstance(bairro, str) and bairro.lower() != 'none' and bairro.lower() != 'outros':\n",
    "        query_string = f\"{logradouro}, {bairro}, Belo Horizonte, Minas Gerais, Brazil\"\n",
    "    else:\n",
    "        query_string = f\"{logradouro}, Belo Horizonte, Minas Gerais, Brazil\"\n",
    "    \n",
    "    print(f\"Buscando dados geo para: {query_string}...\")\n",
    "    \n",
    "    try:\n",
    "        location = geolocator.geocode(query_string, timeout=30)\n",
    "\n",
    "        \n",
    "        if location and location.raw:\n",
    "            latitude = location.latitude\n",
    "            longitude = location.longitude\n",
    "            components = location.raw.get('components', {})\n",
    "            cep = components.get('postcode')\n",
    "            \n",
    "            # Se CEP não encontrado, tenta geocodificação reversa\n",
    "            if not cep:\n",
    "                reverse_loc = geolocator.reverse((latitude, longitude))\n",
    "                if reverse_loc and reverse_loc.raw:\n",
    "                    components_rev = reverse_loc.raw.get('components', {})\n",
    "                    cep = components_rev.get('postcode')\n",
    "            \n",
    "            print(f\" -> SUCESSO! Lat: {latitude}, Lon: {longitude}, CEP: {cep}\")\n",
    "            return (latitude, longitude, cep)\n",
    "        else:\n",
    "            print(\" -> Endereço não encontrado.\")\n",
    "            return (None, None, None)\n",
    "            \n",
    "    except Exception as e:\n",
    "        print(f\" -> ERRO na geocodificação: {e}\")\n",
    "        return (None, None, None)\n"
   ]
  },
  {
   "cell_type": "code",
   "execution_count": null,
   "metadata": {},
   "outputs": [],
   "source": [
    "# 3️⃣ Criar DataFrame com endereços únicos\n",
    "unique_addresses = base_ML[['endereco_norm', 'bairro_norm']].drop_duplicates().reset_index(drop=True)\n",
    "\n",
    "resultado_geo = unique_addresses.apply(\n",
    "    lambda row: pd.Series(get_geo_info_from_address(row, api_key=OPENCAGE_API_KEY)),\n",
    "    axis=1\n",
    ")\n",
    "resultado_geo.columns = [\"latitude\", \"longitude\", \"CEP\"]\n",
    "unique_addresses = pd.concat([unique_addresses, resultado_geo], axis=1)\n",
    "unique_addresses.rename(columns={'CEP': 'CEP_opencage'}, inplace=True)"
   ]
  },
  {
   "cell_type": "code",
   "execution_count": null,
   "metadata": {},
   "outputs": [],
   "source": [
    "# Juntar resultados geográficos à base original\n",
    "base_ML_CEPS = pd.merge(\n",
    "    base_ML,\n",
    "    unique_addresses,\n",
    "    on=['endereco_norm', 'bairro_norm'],\n",
    "    how='left'\n",
    ")"
   ]
  },
  {
   "cell_type": "code",
   "execution_count": null,
   "metadata": {},
   "outputs": [],
   "source": [
    "# Relatório final e salvar CSV\n",
    "ceps_encontrados = base_ML_CEPS['CEP_opencage'].notna().sum()\n",
    "total_imoveis = len(base_ML_CEPS)\n",
    "taxa_sucesso = (ceps_encontrados / total_imoveis) * 100\n",
    "\n",
    "print(f\"CEPs encontrados: {ceps_encontrados} de {total_imoveis} imóveis.\")\n",
    "print(f\"Taxa de sucesso: {taxa_sucesso:.2f}%\")\n",
    "\n",
    "# Salvar\n",
    "base_ML_CEPS.to_csv(\"imoveis_zap_belo_horizonte_CEP.csv\", index=False, sep=';', encoding=\"utf-8-sig\")"
   ]
  },
  {
   "cell_type": "code",
   "execution_count": null,
   "metadata": {},
   "outputs": [],
   "source": [
    "base_ML_CEPS = base_ML_CEPS.dropna(subset=['CEP_opencage'])\n",
    "\n",
    "print(f\"Imóveis com CEP: {len(base_ML_CEPS)}\")"
   ]
  },
  {
   "cell_type": "code",
   "execution_count": null,
   "metadata": {},
   "outputs": [],
   "source": [
    "# Salvando em arquivo CSV\n",
    "nome_do_arquivo = 'imoveis_belo_horizonte_CEP.csv'\n",
    "base_ML_CEPS.to_csv(nome_do_arquivo, index=False, sep=';', encoding='utf-8-sig')"
   ]
  },
  {
   "cell_type": "code",
   "execution_count": null,
   "metadata": {},
   "outputs": [],
   "source": [
    "pontos_de_interesse = {\n",
    "    \"praca_da_liberdade\": (-19.9375, -43.9333),          # Praça da Liberdade\n",
    "    \"lagoa_da_pampulha\": (-19.8583, -43.9744),          # Lagoa da Pampulha\n",
    "    \"parque_americo_renne\": (-19.9208, -43.9333),       # Parque Américo Renné Giannetti\n",
    "    \"parque_das_mangabeiras\": (-19.9469, -43.8994),     # Parque das Mangabeiras\n",
    "    \"circuito_da_liberdade\": (-19.9375, -43.9333),      # Circuito Cultural Praça da Liberdade\n",
    "    \"mercado_central\": (-19.9194, -43.9333),            # Mercado Central de Belo Horizonte\n",
    "    \"igreja_sao_jose\": (-19.9208, -43.9333)             # Igreja de São José\n",
    "}"
   ]
  },
  {
   "cell_type": "code",
   "execution_count": null,
   "metadata": {},
   "outputs": [],
   "source": [
    "# Criar coluna de distância para cada ponto de interesse\n",
    "for nome, coord_ponto in pontos_de_interesse.items():\n",
    "    coluna_distancia = f'dist_{nome}_km'\n",
    "    base_ML_CEPS[coluna_distancia] = base_ML_CEPS.apply(\n",
    "        lambda row: geodesic((row['latitude'], row['longitude']), coord_ponto).kilometers\n",
    "        if pd.notna(row['latitude']) and pd.notna(row['longitude'])\n",
    "        else np.nan,\n",
    "        axis=1\n",
    "    )\n",
    "\n",
    "print(\"\\nFeatures de distância criadas com sucesso!\")"
   ]
  },
  {
   "cell_type": "code",
   "execution_count": null,
   "metadata": {},
   "outputs": [],
   "source": [
    "#Salvando em arquivo CSV\n",
    "nome_do_arquivo = 'imoveis_belo_horizonte_ML_distancias.csv'\n",
    "base_ML_CEPS.to_csv(nome_do_arquivo, index=False, sep=';', encoding='utf-8-sig')"
   ]
  }
 ],
 "metadata": {
  "kernelspec": {
   "display_name": "Python 3",
   "language": "python",
   "name": "python3"
  },
  "language_info": {
   "codemirror_mode": {
    "name": "ipython",
    "version": 3
   },
   "file_extension": ".py",
   "mimetype": "text/x-python",
   "name": "python",
   "nbconvert_exporter": "python",
   "pygments_lexer": "ipython3",
   "version": "3.9.6"
  }
 },
 "nbformat": 4,
 "nbformat_minor": 2
}
